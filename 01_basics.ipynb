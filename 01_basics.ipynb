{
  "cells": [
    {
      "cell_type": "markdown",
      "metadata": {
        "id": "view-in-github",
        "colab_type": "text"
      },
      "source": [
        "<a href=\"https://colab.research.google.com/github/SagarUnnikrishnan/Introduction-to-Python/blob/main/01_basics.ipynb\" target=\"_parent\"><img src=\"https://colab.research.google.com/assets/colab-badge.svg\" alt=\"Open In Colab\"/></a>"
      ]
    },
    {
      "cell_type": "code",
      "execution_count": null,
      "metadata": {
        "colab": {
          "base_uri": "https://localhost:8080/"
        },
        "id": "FSVsMOOzgWNb",
        "outputId": "6f13821a-e702-4510-b7c7-a484a00b24f0"
      },
      "outputs": [
        {
          "data": {
            "text/plain": [
              "53"
            ]
          },
          "execution_count": 1,
          "metadata": {},
          "output_type": "execute_result"
        }
      ],
      "source": [
        "38+15"
      ]
    },
    {
      "cell_type": "code",
      "execution_count": null,
      "metadata": {
        "colab": {
          "base_uri": "https://localhost:8080/"
        },
        "id": "hsNgAEuhhx2r",
        "outputId": "79f34d53-09c2-4197-e830-f277af0ff40b"
      },
      "outputs": [
        {
          "data": {
            "text/plain": [
              "450"
            ]
          },
          "execution_count": 2,
          "metadata": {},
          "output_type": "execute_result"
        }
      ],
      "source": [
        "30*15"
      ]
    },
    {
      "cell_type": "code",
      "execution_count": null,
      "metadata": {
        "colab": {
          "base_uri": "https://localhost:8080/"
        },
        "id": "gHo617SViE4y",
        "outputId": "9dec5ef9-93db-42e7-c309-2d195ec0fa8d"
      },
      "outputs": [
        {
          "data": {
            "text/plain": [
              "2.0"
            ]
          },
          "execution_count": 3,
          "metadata": {},
          "output_type": "execute_result"
        }
      ],
      "source": [
        "30/15"
      ]
    },
    {
      "cell_type": "code",
      "execution_count": null,
      "metadata": {
        "id": "c0EOooOZiIbq"
      },
      "outputs": [],
      "source": [
        "x=10"
      ]
    },
    {
      "cell_type": "code",
      "execution_count": null,
      "metadata": {
        "colab": {
          "base_uri": "https://localhost:8080/"
        },
        "id": "xzhk7hukiqBa",
        "outputId": "ba1db6d8-4c8c-41bb-fdb2-cebb5c177a9b"
      },
      "outputs": [
        {
          "name": "stdout",
          "output_type": "stream",
          "text": [
            "10\n"
          ]
        }
      ],
      "source": [
        "print(x)"
      ]
    },
    {
      "cell_type": "code",
      "execution_count": null,
      "metadata": {
        "colab": {
          "base_uri": "https://localhost:8080/"
        },
        "id": "lqoc9g0xiywy",
        "outputId": "0be8d7b6-5d8d-45ec-82f4-83f4e51a7321"
      },
      "outputs": [
        {
          "name": "stdout",
          "output_type": "stream",
          "text": [
            "10 20\n"
          ]
        }
      ],
      "source": [
        "x=10\n",
        "y=20\n",
        "print(x,y)"
      ]
    },
    {
      "cell_type": "code",
      "execution_count": null,
      "metadata": {
        "colab": {
          "base_uri": "https://localhost:8080/"
        },
        "id": "Q1Cfbgr_jNvC",
        "outputId": "da138ed7-d909-42aa-d2b7-62c6016ce695"
      },
      "outputs": [
        {
          "name": "stdout",
          "output_type": "stream",
          "text": [
            "30\n"
          ]
        }
      ],
      "source": [
        "x=10\n",
        "y=20\n",
        "print(x+y)"
      ]
    },
    {
      "cell_type": "code",
      "execution_count": null,
      "metadata": {
        "colab": {
          "base_uri": "https://localhost:8080/"
        },
        "id": "k3217C5gjuux",
        "outputId": "b102550e-0bef-43ee-e970-77ecabcb98f6"
      },
      "outputs": [
        {
          "name": "stdout",
          "output_type": "stream",
          "text": [
            "-10\n"
          ]
        }
      ],
      "source": [
        "print(x-y)"
      ]
    },
    {
      "cell_type": "code",
      "execution_count": null,
      "metadata": {
        "colab": {
          "base_uri": "https://localhost:8080/"
        },
        "id": "fdsxbSCxj2rC",
        "outputId": "cd154b90-9bc1-4915-b1fe-208a6cf6be2b"
      },
      "outputs": [
        {
          "name": "stdout",
          "output_type": "stream",
          "text": [
            "0.5\n",
            "200\n"
          ]
        }
      ],
      "source": [
        "print(x/y)\n",
        "print(x*y)"
      ]
    },
    {
      "cell_type": "code",
      "execution_count": null,
      "metadata": {
        "colab": {
          "base_uri": "https://localhost:8080/"
        },
        "id": "PqOIPiJqkLWR",
        "outputId": "c874344d-6422-4fa5-e34e-f0674239a3f3"
      },
      "outputs": [
        {
          "name": "stdout",
          "output_type": "stream",
          "text": [
            "Sagar\n"
          ]
        }
      ],
      "source": [
        "x='Sagar'\n",
        "print(x)"
      ]
    },
    {
      "cell_type": "code",
      "execution_count": null,
      "metadata": {
        "colab": {
          "base_uri": "https://localhost:8080/"
        },
        "id": "dqPW2Meck2lX",
        "outputId": "14c1743b-0b75-4005-d571-d98d69841560"
      },
      "outputs": [
        {
          "name": "stdout",
          "output_type": "stream",
          "text": [
            "Sagar\n"
          ]
        }
      ],
      "source": [
        "x=\"Sagar\"\n",
        "print(x)"
      ]
    },
    {
      "cell_type": "code",
      "execution_count": null,
      "metadata": {
        "colab": {
          "base_uri": "https://localhost:8080/"
        },
        "id": "Luxif9Btk8QB",
        "outputId": "97f96772-ef76-45c0-e21f-dff1a653bca1"
      },
      "outputs": [
        {
          "name": "stdout",
          "output_type": "stream",
          "text": [
            "Sagar\n"
          ]
        }
      ],
      "source": [
        "x='''Sagar'''\n",
        "print(x)"
      ]
    },
    {
      "cell_type": "code",
      "execution_count": null,
      "metadata": {
        "colab": {
          "base_uri": "https://localhost:8080/"
        },
        "id": "ATatMnHEmJDI",
        "outputId": "197c11f9-ac9a-4812-ccb7-6393efa15855"
      },
      "outputs": [
        {
          "name": "stdout",
          "output_type": "stream",
          "text": [
            "S\n"
          ]
        }
      ],
      "source": [
        "print(x[0])"
      ]
    },
    {
      "cell_type": "code",
      "execution_count": null,
      "metadata": {
        "colab": {
          "base_uri": "https://localhost:8080/"
        },
        "id": "2i3Qwq6ZmNpI",
        "outputId": "7d590191-7c8a-4e4c-cf7b-6f50aa5ddb67"
      },
      "outputs": [
        {
          "name": "stdout",
          "output_type": "stream",
          "text": [
            "r\n"
          ]
        }
      ],
      "source": [
        "print(x[4])"
      ]
    },
    {
      "cell_type": "code",
      "execution_count": null,
      "metadata": {
        "colab": {
          "base_uri": "https://localhost:8080/"
        },
        "id": "_D1fmV7NmdXQ",
        "outputId": "823a7f72-52e2-47b5-ebbb-cd3a8e4de15a"
      },
      "outputs": [
        {
          "name": "stdout",
          "output_type": "stream",
          "text": [
            "S\n"
          ]
        }
      ],
      "source": [
        "print(x[-5])"
      ]
    },
    {
      "cell_type": "code",
      "execution_count": null,
      "metadata": {
        "colab": {
          "base_uri": "https://localhost:8080/"
        },
        "id": "4-WGM9BDnYFY",
        "outputId": "a5e09a20-0090-4a74-bd97-b0e182b25bf2"
      },
      "outputs": [
        {
          "name": "stdout",
          "output_type": "stream",
          "text": [
            "Sagar \n"
          ]
        }
      ],
      "source": [
        "x=\"Sagar Unnikrishnan\"\n",
        "print(x[0:6])"
      ]
    },
    {
      "cell_type": "code",
      "execution_count": null,
      "metadata": {
        "colab": {
          "base_uri": "https://localhost:8080/"
        },
        "id": "d6Ldpgdqo6SZ",
        "outputId": "48f15563-9280-4643-c12c-b1262a08b843"
      },
      "outputs": [
        {
          "name": "stdout",
          "output_type": "stream",
          "text": [
            "Unnikrishnan\n"
          ]
        }
      ],
      "source": [
        "print(x[6:18])"
      ]
    },
    {
      "cell_type": "code",
      "execution_count": null,
      "metadata": {
        "colab": {
          "base_uri": "https://localhost:8080/"
        },
        "id": "ezjt4LFtptNH",
        "outputId": "54778c6b-9888-4110-92bc-133ac44d74ad"
      },
      "outputs": [
        {
          "name": "stdout",
          "output_type": "stream",
          "text": [
            "Sagar\n"
          ]
        }
      ],
      "source": [
        "print(x[-18:-13])"
      ]
    },
    {
      "cell_type": "code",
      "execution_count": null,
      "metadata": {
        "colab": {
          "base_uri": "https://localhost:8080/"
        },
        "id": "1QlPS71fqTK-",
        "outputId": "9f4821bc-a158-40a5-aa6d-0a3871b41c92"
      },
      "outputs": [
        {
          "name": "stdout",
          "output_type": "stream",
          "text": [
            "SagarUnnikrishnan\n"
          ]
        }
      ],
      "source": [
        "x=\"Sagar\"\n",
        "y=\"Unnikrishnan\"\n",
        "print(x+y)"
      ]
    },
    {
      "cell_type": "code",
      "execution_count": null,
      "metadata": {
        "colab": {
          "base_uri": "https://localhost:8080/"
        },
        "id": "OL2uLgXmtyiP",
        "outputId": "0a9f5e49-060c-46f0-d2d9-0c7f34398404"
      },
      "outputs": [
        {
          "name": "stdout",
          "output_type": "stream",
          "text": [
            "Sagar Unnikrishnan\n"
          ]
        }
      ],
      "source": [
        "print(x+\" \"+y)"
      ]
    },
    {
      "cell_type": "code",
      "execution_count": null,
      "metadata": {
        "colab": {
          "base_uri": "https://localhost:8080/"
        },
        "id": "p7zQ5Ip5uKhn",
        "outputId": "0e70e1cf-b732-475d-8ca7-cddf389c2ddc"
      },
      "outputs": [
        {
          "name": "stdout",
          "output_type": "stream",
          "text": [
            "1020\n"
          ]
        }
      ],
      "source": [
        "x=\"10\"\n",
        "y=\"20\"\n",
        "print(x+y)"
      ]
    },
    {
      "cell_type": "code",
      "execution_count": null,
      "metadata": {
        "colab": {
          "base_uri": "https://localhost:8080/"
        },
        "id": "A07Ke1NmvIVe",
        "outputId": "a7aa77ca-1461-45b8-9d74-b82a23a73ef2"
      },
      "outputs": [
        {
          "name": "stdout",
          "output_type": "stream",
          "text": [
            "<class 'int'>\n"
          ]
        }
      ],
      "source": [
        "x=10\n",
        "print(type(x))"
      ]
    },
    {
      "cell_type": "code",
      "execution_count": null,
      "metadata": {
        "colab": {
          "base_uri": "https://localhost:8080/"
        },
        "id": "2_ekzxyRvcpm",
        "outputId": "dd451292-a607-436c-936f-c83243fc8079"
      },
      "outputs": [
        {
          "name": "stdout",
          "output_type": "stream",
          "text": [
            "<class 'float'>\n"
          ]
        }
      ],
      "source": [
        "x=10.5\n",
        "print(type(x))"
      ]
    },
    {
      "cell_type": "code",
      "execution_count": null,
      "metadata": {
        "colab": {
          "base_uri": "https://localhost:8080/"
        },
        "id": "1uURrlaMvkPW",
        "outputId": "b1b72589-ecfc-423a-f4d6-013547b051c8"
      },
      "outputs": [
        {
          "name": "stdout",
          "output_type": "stream",
          "text": [
            "<class 'str'>\n"
          ]
        }
      ],
      "source": [
        "x=\"Sagar\"\n",
        "print(type(x))\n"
      ]
    },
    {
      "cell_type": "code",
      "execution_count": null,
      "metadata": {
        "colab": {
          "base_uri": "https://localhost:8080/"
        },
        "id": "L04hqBZ9wLTO",
        "outputId": "b69715a5-15c2-414f-c566-082c24f36434"
      },
      "outputs": [
        {
          "name": "stdout",
          "output_type": "stream",
          "text": [
            "Enter your name:Sagar\n"
          ]
        }
      ],
      "source": [
        "x=input(\"Enter your name:\")"
      ]
    },
    {
      "cell_type": "code",
      "execution_count": null,
      "metadata": {
        "colab": {
          "base_uri": "https://localhost:8080/"
        },
        "id": "Fie9xViVwqkm",
        "outputId": "d4bd1bc1-0f95-4383-cee9-3c27c5f62661"
      },
      "outputs": [
        {
          "name": "stdout",
          "output_type": "stream",
          "text": [
            "Enter your marks:100\n"
          ]
        }
      ],
      "source": [
        "x=input(\"Enter your marks:\")"
      ]
    },
    {
      "cell_type": "code",
      "execution_count": null,
      "metadata": {
        "colab": {
          "base_uri": "https://localhost:8080/"
        },
        "id": "4mFqziu0wvCO",
        "outputId": "98128009-461b-4ec4-c316-d0663faf62be"
      },
      "outputs": [
        {
          "name": "stdout",
          "output_type": "stream",
          "text": [
            "<class 'str'>\n"
          ]
        }
      ],
      "source": [
        "print(type(x))"
      ]
    },
    {
      "cell_type": "code",
      "execution_count": null,
      "metadata": {
        "colab": {
          "base_uri": "https://localhost:8080/"
        },
        "id": "yBzjVyrdw4Of",
        "outputId": "81ad696d-18cb-499e-c8e9-111368609dba"
      },
      "outputs": [
        {
          "name": "stdout",
          "output_type": "stream",
          "text": [
            "Enter your marks:100\n"
          ]
        }
      ],
      "source": [
        "x=int(input(\"Enter your marks:\"))"
      ]
    },
    {
      "cell_type": "code",
      "execution_count": null,
      "metadata": {
        "colab": {
          "base_uri": "https://localhost:8080/"
        },
        "id": "xC07Z_4XxGEe",
        "outputId": "93f9e17d-533e-4bba-9103-7e4738dd8130"
      },
      "outputs": [
        {
          "name": "stdout",
          "output_type": "stream",
          "text": [
            "<class 'int'>\n"
          ]
        }
      ],
      "source": [
        "print(type(x))"
      ]
    },
    {
      "cell_type": "code",
      "execution_count": null,
      "metadata": {
        "colab": {
          "base_uri": "https://localhost:8080/"
        },
        "id": "rwbAKV2xxLr2",
        "outputId": "1cddfd86-d8e8-4350-9def-675fec4d4631"
      },
      "outputs": [
        {
          "name": "stdout",
          "output_type": "stream",
          "text": [
            "Enter first number6\n",
            "Enter second number2\n",
            "8\n",
            "4\n",
            "12\n",
            "3.0\n"
          ]
        }
      ],
      "source": [
        "x=int(input(\"Enter first number\"))\n",
        "y=int(input(\"Enter second number\"))\n",
        "print(x+y)\n",
        "print(x-y)\n",
        "print(x*y)\n",
        "print(x/y)"
      ]
    },
    {
      "cell_type": "code",
      "execution_count": null,
      "metadata": {
        "colab": {
          "base_uri": "https://localhost:8080/"
        },
        "id": "yDjncOgzzZUW",
        "outputId": "28f07c7c-ee7c-46e1-d82a-6710a1a560db"
      },
      "outputs": [
        {
          "name": "stdout",
          "output_type": "stream",
          "text": [
            "Ohm's Law\n",
            "Enter value of Current=6\n",
            "Enter value of Resistance=2\n",
            "Voltage =  12\n"
          ]
        }
      ],
      "source": [
        "print(\"Ohm's Law\")\n",
        "x=int(input(\"Enter value of Current=\"))\n",
        "y=int(input(\"Enter value of Resistance=\"))\n",
        "print(\"Voltage = \",x*y)"
      ]
    },
    {
      "cell_type": "code",
      "execution_count": null,
      "metadata": {
        "colab": {
          "base_uri": "https://localhost:8080/"
        },
        "id": "sF-IDj-gzmh1",
        "outputId": "5978e88e-998b-4115-e742-1902954692a7"
      },
      "outputs": [
        {
          "name": "stdout",
          "output_type": "stream",
          "text": [
            "Enter your marks:52\n",
            "You are passed\n"
          ]
        }
      ],
      "source": [
        "x=int(input(\"Enter your marks:\"))\n",
        "if x>50:\n",
        "  print(\"You are passed\")\n",
        "else:\n",
        "  print(\"You are failed\")"
      ]
    },
    {
      "cell_type": "code",
      "execution_count": null,
      "metadata": {
        "colab": {
          "base_uri": "https://localhost:8080/"
        },
        "id": "UaYTBQfG1azc",
        "outputId": "d77ba550-59aa-4cd5-d7bf-cdd42deb5912"
      },
      "outputs": [
        {
          "name": "stdout",
          "output_type": "stream",
          "text": [
            "Enter your marks:50\n",
            "You are just passed\n"
          ]
        }
      ],
      "source": [
        "x=int(input(\"Enter your marks:\"))\n",
        "if x>50:\n",
        "  print(\"You are passed\")\n",
        "if x==50:\n",
        "  print(\"You are just passed\")\n",
        "else:\n",
        "  print(\"You are failed\")"
      ]
    },
    {
      "cell_type": "code",
      "execution_count": null,
      "metadata": {
        "colab": {
          "base_uri": "https://localhost:8080/"
        },
        "id": "zkS1zl_V1yK8",
        "outputId": "2bce3d46-764e-431c-90e3-dd81764b0553"
      },
      "outputs": [
        {
          "name": "stdout",
          "output_type": "stream",
          "text": [
            "Enter your marks:49\n",
            "You are failed\n"
          ]
        }
      ],
      "source": [
        "x=int(input(\"Enter your marks:\"))\n",
        "if 0<x<=49:\n",
        "  print(\"You are failed\")\n",
        "if 50<x<=60:\n",
        "  print(\"You have second class\")\n",
        "if 61<x<=80:\n",
        "  print(\"You have First class\")\n",
        "if 81<x:\n",
        "  print(\"You have Distinction\")"
      ]
    },
    {
      "cell_type": "code",
      "execution_count": null,
      "metadata": {
        "colab": {
          "base_uri": "https://localhost:8080/"
        },
        "id": "7okTuEFw6uUU",
        "outputId": "bbc1910c-e3e3-4ed5-d18c-8f53c252de39"
      },
      "outputs": [
        {
          "name": "stdout",
          "output_type": "stream",
          "text": [
            "Enter your marks:82\n",
            "Number of arrears2\n",
            "You should clear arrears for distinction,\n"
          ]
        }
      ],
      "source": [
        "x=int(input(\"Enter your marks:\"))\n",
        "if 0<x<=49:\n",
        "  print(\"You are failed\")\n",
        "if 50<x<=60:\n",
        "  print(\"You have second class\")\n",
        "if 61<x<=80:\n",
        "  print(\"You have First class\")\n",
        "if 81<x:\n",
        "  a=int(input(\"Number of arrears\"))\n",
        "  if a==0:\n",
        "    print(\"You got distinction\")\n",
        "  else:\n",
        "    print(\"You should clear arrears for distinction,\")"
      ]
    },
    {
      "cell_type": "code",
      "execution_count": null,
      "metadata": {
        "colab": {
          "base_uri": "https://localhost:8080/"
        },
        "id": "QegC7KFWI4UP",
        "outputId": "0cc4f890-5b52-46e7-a8a1-eba51f237227"
      },
      "outputs": [
        {
          "name": "stdout",
          "output_type": "stream",
          "text": [
            "Enter the number4\n",
            "Given number is even\n"
          ]
        }
      ],
      "source": [
        "x=int(input(\"Enter the number\"))\n",
        "if x%2==0:\n",
        "  print(\"Given number is even\")\n",
        "else :print(\"Number is odd\")"
      ]
    },
    {
      "cell_type": "code",
      "execution_count": null,
      "metadata": {
        "colab": {
          "base_uri": "https://localhost:8080/"
        },
        "id": "Kkmwn1ugLD03",
        "outputId": "08fb5cff-135d-4abe-8654-0f979060a808"
      },
      "outputs": [
        {
          "name": "stdout",
          "output_type": "stream",
          "text": [
            "0\n",
            "2\n",
            "4\n",
            "6\n",
            "8\n"
          ]
        }
      ],
      "source": [
        "for k in range(10):\n",
        "    if k%2==0:\n",
        "       print(k)"
      ]
    },
    {
      "cell_type": "code",
      "execution_count": null,
      "metadata": {
        "colab": {
          "base_uri": "https://localhost:8080/"
        },
        "id": "MBPHHa4CLMbf",
        "outputId": "8164db8d-0fb5-41c3-9e95-d8800cc035e3"
      },
      "outputs": [
        {
          "name": "stdout",
          "output_type": "stream",
          "text": [
            "55\n"
          ]
        }
      ],
      "source": [
        "i=0\n",
        "for k in range(11):\n",
        "  i=k+i\n",
        "print(i)"
      ]
    },
    {
      "cell_type": "code",
      "execution_count": null,
      "metadata": {
        "colab": {
          "base_uri": "https://localhost:8080/"
        },
        "id": "tJDJERnKNKGX",
        "outputId": "605b491e-10f3-42b1-d458-651ef4261c94"
      },
      "outputs": [
        {
          "name": "stdout",
          "output_type": "stream",
          "text": [
            "2550\n"
          ]
        }
      ],
      "source": [
        "i=0\n",
        "for k in range(101):\n",
        "  if k%2==0:\n",
        "     i=k+i\n",
        "print(i)"
      ]
    },
    {
      "cell_type": "code",
      "execution_count": null,
      "metadata": {
        "colab": {
          "base_uri": "https://localhost:8080/"
        },
        "id": "VWZJIkFzRGOl",
        "outputId": "337014d6-f10c-4300-ade5-00fa637621d7"
      },
      "outputs": [
        {
          "name": "stdout",
          "output_type": "stream",
          "text": [
            "93326215443944152681699238856266700490715968264381621468592963895217599993229915608941463976156518286253697920827223758251185210916864000000000000000000000000\n"
          ]
        }
      ],
      "source": [
        "i=1\n",
        "for k in range(1,101):\n",
        "     i=k*i\n",
        "print(i)"
      ]
    },
    {
      "cell_type": "code",
      "execution_count": null,
      "metadata": {
        "colab": {
          "base_uri": "https://localhost:8080/"
        },
        "id": "0Stp7Gi1RqM9",
        "outputId": "6b2c946c-8e17-45c6-a84f-fd10101b71d4"
      },
      "outputs": [
        {
          "name": "stdout",
          "output_type": "stream",
          "text": [
            "0\n",
            "1\n",
            "2\n",
            "3\n",
            "4\n"
          ]
        }
      ],
      "source": [
        "for k in range(100):\n",
        "     if k==5:\n",
        "       break;\n",
        "     print(k)"
      ]
    },
    {
      "cell_type": "code",
      "execution_count": null,
      "metadata": {
        "colab": {
          "base_uri": "https://localhost:8080/"
        },
        "id": "bb-YQQgTTtt0",
        "outputId": "da799d6d-d551-4be4-c242-367b3225ddc4"
      },
      "outputs": [
        {
          "name": "stdout",
          "output_type": "stream",
          "text": [
            "Enter number:7\n",
            "Press 0 if the number is final or else type 11\n",
            "Enter number:10\n",
            "Press 0 if the number is final or else type 10\n",
            "17\n"
          ]
        }
      ],
      "source": [
        "sum=0\n",
        "for k in range(100):\n",
        "  x=int(input(\"Enter number:\"))\n",
        "  sum=sum+x\n",
        "  y=int(input(\"Press 0 if the number is final or else type 1\"))\n",
        "  if y==0:\n",
        "    break;\n",
        "print(sum)\n"
      ]
    },
    {
      "cell_type": "code",
      "execution_count": null,
      "metadata": {
        "colab": {
          "base_uri": "https://localhost:8080/"
        },
        "id": "zdv5EJ-7ZEkM",
        "outputId": "53b9f1e2-8322-4174-a12e-2243575178d9"
      },
      "outputs": [
        {
          "name": "stdout",
          "output_type": "stream",
          "text": [
            "0\n",
            "1\n",
            "2\n",
            "3\n",
            "4\n",
            "5\n",
            "6\n",
            "7\n",
            "8\n",
            "9\n",
            "10\n",
            "11\n",
            "12\n",
            "13\n",
            "14\n",
            "15\n",
            "16\n",
            "17\n",
            "18\n",
            "19\n",
            "20\n",
            "21\n",
            "22\n",
            "23\n",
            "24\n",
            "25\n",
            "26\n",
            "27\n",
            "28\n",
            "29\n",
            "30\n",
            "31\n",
            "32\n",
            "33\n",
            "34\n",
            "35\n",
            "36\n",
            "37\n",
            "38\n",
            "39\n",
            "40\n",
            "41\n",
            "42\n",
            "43\n",
            "44\n",
            "45\n",
            "46\n",
            "47\n",
            "48\n",
            "49\n",
            "50\n",
            "51\n",
            "52\n",
            "53\n",
            "54\n",
            "55\n",
            "56\n",
            "57\n",
            "58\n",
            "59\n",
            "60\n",
            "61\n",
            "62\n",
            "63\n",
            "64\n",
            "65\n",
            "66\n",
            "67\n",
            "68\n",
            "69\n",
            "70\n",
            "71\n",
            "72\n",
            "73\n",
            "74\n",
            "75\n",
            "76\n",
            "77\n",
            "78\n",
            "79\n",
            "80\n",
            "81\n",
            "82\n",
            "83\n",
            "84\n",
            "85\n",
            "86\n",
            "87\n",
            "88\n",
            "89\n",
            "90\n",
            "91\n",
            "92\n",
            "93\n",
            "94\n",
            "95\n",
            "96\n",
            "97\n",
            "98\n",
            "99\n"
          ]
        }
      ],
      "source": [
        "k=0\n",
        "while(k<100):\n",
        "  print(k)\n",
        "  k=k+1"
      ]
    },
    {
      "cell_type": "code",
      "execution_count": null,
      "metadata": {
        "colab": {
          "base_uri": "https://localhost:8080/"
        },
        "id": "2PptNUsgavvT",
        "outputId": "a4007bd3-8219-46a2-daff-e794fe5d20cc"
      },
      "outputs": [
        {
          "name": "stdout",
          "output_type": "stream",
          "text": [
            "5050\n"
          ]
        }
      ],
      "source": [
        "k=0\n",
        "s=0\n",
        "while(k<100):\n",
        "  k=k+1\n",
        "  s=s+k\n",
        "print(s)"
      ]
    },
    {
      "cell_type": "code",
      "execution_count": null,
      "metadata": {
        "colab": {
          "base_uri": "https://localhost:8080/"
        },
        "id": "q_ABP88YdJFq",
        "outputId": "60eba592-f08b-4e7b-beea-ce5a237a95d3"
      },
      "outputs": [
        {
          "name": "stdout",
          "output_type": "stream",
          "text": [
            "2550\n"
          ]
        }
      ],
      "source": [
        "k=0\n",
        "s=0\n",
        "while(k<100):\n",
        "  k=k+1\n",
        "  if (k%2)==0:\n",
        "   s=s+k\n",
        "print(s)"
      ]
    },
    {
      "cell_type": "code",
      "execution_count": null,
      "metadata": {
        "colab": {
          "base_uri": "https://localhost:8080/"
        },
        "id": "hOFD6kG3eA5a",
        "outputId": "d82d9551-221e-4412-9db9-120f03b01fe1"
      },
      "outputs": [
        {
          "name": "stdout",
          "output_type": "stream",
          "text": [
            "0\n",
            "1\n",
            "2\n",
            "3\n",
            "4\n",
            "6\n",
            "7\n",
            "8\n",
            "9\n"
          ]
        }
      ],
      "source": [
        "for x in range(10):\n",
        "  if x==5:\n",
        "    continue;\n",
        "  print(x)"
      ]
    },
    {
      "cell_type": "code",
      "execution_count": null,
      "metadata": {
        "id": "VmSXrCcYlgFv"
      },
      "outputs": [],
      "source": [
        "x=[1,2,5,9,\"India\",25.6]\n",
        "print(x[0])\n",
        "print(x[-1])\n",
        "print(x[0:3])\n",
        "print(x[-4:])"
      ]
    },
    {
      "cell_type": "code",
      "execution_count": null,
      "metadata": {
        "id": "SikCy-zQmQh_"
      },
      "outputs": [],
      "source": []
    }
  ],
  "metadata": {
    "colab": {
      "provenance": [],
      "authorship_tag": "ABX9TyP4iUpAoQEOROBdXzoswl7w",
      "include_colab_link": true
    },
    "kernelspec": {
      "display_name": "Python 3",
      "name": "python3"
    },
    "language_info": {
      "name": "python"
    }
  },
  "nbformat": 4,
  "nbformat_minor": 0
}